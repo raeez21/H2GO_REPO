{
 "cells": [
  {
   "cell_type": "markdown",
   "id": "fd1cb593",
   "metadata": {},
   "source": [
    "## Import necessary libraries"
   ]
  },
  {
   "cell_type": "code",
   "execution_count": 1,
   "id": "c87a1503",
   "metadata": {},
   "outputs": [],
   "source": [
    "import pandas as pd\n",
    "import matplotlib.pyplot as plt\n",
    "import seaborn as sns"
   ]
  },
  {
   "cell_type": "markdown",
   "id": "0f9dea76",
   "metadata": {},
   "source": [
    "# Loading data"
   ]
  },
  {
   "cell_type": "code",
   "execution_count": 2,
   "id": "e65f7e78",
   "metadata": {},
   "outputs": [],
   "source": [
    "# Path to input file\n",
    "input_file_path = '..\\\\2020_03_ActualGenerationOutputPerGenerationUnit_16.1.A.csv'"
   ]
  },
  {
   "cell_type": "code",
   "execution_count": 3,
   "id": "20050f78",
   "metadata": {},
   "outputs": [],
   "source": [
    "# Read the Excel file into a DataFrame\n",
    "df = pd.read_csv(input_file_path, sep='\\t')"
   ]
  },
  {
   "cell_type": "markdown",
   "id": "b9cb0a68",
   "metadata": {},
   "source": [
    "# Understanding the data"
   ]
  },
  {
   "cell_type": "code",
   "execution_count": 4,
   "id": "7170328d",
   "metadata": {},
   "outputs": [
    {
     "data": {
      "text/html": [
       "<div>\n",
       "<style scoped>\n",
       "    .dataframe tbody tr th:only-of-type {\n",
       "        vertical-align: middle;\n",
       "    }\n",
       "\n",
       "    .dataframe tbody tr th {\n",
       "        vertical-align: top;\n",
       "    }\n",
       "\n",
       "    .dataframe thead th {\n",
       "        text-align: right;\n",
       "    }\n",
       "</style>\n",
       "<table border=\"1\" class=\"dataframe\">\n",
       "  <thead>\n",
       "    <tr style=\"text-align: right;\">\n",
       "      <th></th>\n",
       "      <th>DateTime</th>\n",
       "      <th>ResolutionCode</th>\n",
       "      <th>AreaCode</th>\n",
       "      <th>AreaTypeCode</th>\n",
       "      <th>AreaName</th>\n",
       "      <th>MapCode</th>\n",
       "      <th>GenerationUnitEIC</th>\n",
       "      <th>PowerSystemResourceName</th>\n",
       "      <th>ProductionType</th>\n",
       "      <th>ActualGenerationOutput</th>\n",
       "      <th>ActualConsumption</th>\n",
       "      <th>InstalledGenCapacity</th>\n",
       "      <th>UpdateTime</th>\n",
       "    </tr>\n",
       "  </thead>\n",
       "  <tbody>\n",
       "    <tr>\n",
       "      <th>0</th>\n",
       "      <td>2020-03-04 17:00:00.000</td>\n",
       "      <td>PT60M</td>\n",
       "      <td>10YBA-JPCC-----D</td>\n",
       "      <td>CTA</td>\n",
       "      <td>BA CTA</td>\n",
       "      <td>BA</td>\n",
       "      <td>36W-TE-KAKANJ6-7</td>\n",
       "      <td>TE_KAKANJ_G6</td>\n",
       "      <td>Fossil Hard coal</td>\n",
       "      <td>0.0</td>\n",
       "      <td>NaN</td>\n",
       "      <td>100.0</td>\n",
       "      <td>2020-03-04 19:46:09</td>\n",
       "    </tr>\n",
       "    <tr>\n",
       "      <th>1</th>\n",
       "      <td>2020-03-04 18:00:00.000</td>\n",
       "      <td>PT60M</td>\n",
       "      <td>10YBA-JPCC-----D</td>\n",
       "      <td>CTA</td>\n",
       "      <td>BA CTA</td>\n",
       "      <td>BA</td>\n",
       "      <td>36W-TE-KAKANJ6-7</td>\n",
       "      <td>TE_KAKANJ_G6</td>\n",
       "      <td>Fossil Hard coal</td>\n",
       "      <td>0.0</td>\n",
       "      <td>NaN</td>\n",
       "      <td>100.0</td>\n",
       "      <td>2020-03-04 20:46:24</td>\n",
       "    </tr>\n",
       "    <tr>\n",
       "      <th>2</th>\n",
       "      <td>2020-03-04 19:00:00.000</td>\n",
       "      <td>PT60M</td>\n",
       "      <td>10YBA-JPCC-----D</td>\n",
       "      <td>CTA</td>\n",
       "      <td>BA CTA</td>\n",
       "      <td>BA</td>\n",
       "      <td>36W-TE-KAKANJ6-7</td>\n",
       "      <td>TE_KAKANJ_G6</td>\n",
       "      <td>Fossil Hard coal</td>\n",
       "      <td>0.0</td>\n",
       "      <td>NaN</td>\n",
       "      <td>100.0</td>\n",
       "      <td>2020-03-04 21:46:07</td>\n",
       "    </tr>\n",
       "    <tr>\n",
       "      <th>3</th>\n",
       "      <td>2020-03-04 20:00:00.000</td>\n",
       "      <td>PT60M</td>\n",
       "      <td>10YBA-JPCC-----D</td>\n",
       "      <td>CTA</td>\n",
       "      <td>BA CTA</td>\n",
       "      <td>BA</td>\n",
       "      <td>36W-TE-KAKANJ6-7</td>\n",
       "      <td>TE_KAKANJ_G6</td>\n",
       "      <td>Fossil Hard coal</td>\n",
       "      <td>0.0</td>\n",
       "      <td>NaN</td>\n",
       "      <td>100.0</td>\n",
       "      <td>2020-03-04 22:46:06</td>\n",
       "    </tr>\n",
       "    <tr>\n",
       "      <th>4</th>\n",
       "      <td>2020-03-04 21:00:00.000</td>\n",
       "      <td>PT60M</td>\n",
       "      <td>10YBA-JPCC-----D</td>\n",
       "      <td>CTA</td>\n",
       "      <td>BA CTA</td>\n",
       "      <td>BA</td>\n",
       "      <td>36W-TE-KAKANJ6-7</td>\n",
       "      <td>TE_KAKANJ_G6</td>\n",
       "      <td>Fossil Hard coal</td>\n",
       "      <td>0.0</td>\n",
       "      <td>NaN</td>\n",
       "      <td>100.0</td>\n",
       "      <td>2020-03-04 23:47:00</td>\n",
       "    </tr>\n",
       "  </tbody>\n",
       "</table>\n",
       "</div>"
      ],
      "text/plain": [
       "                  DateTime ResolutionCode          AreaCode AreaTypeCode  \\\n",
       "0  2020-03-04 17:00:00.000          PT60M  10YBA-JPCC-----D          CTA   \n",
       "1  2020-03-04 18:00:00.000          PT60M  10YBA-JPCC-----D          CTA   \n",
       "2  2020-03-04 19:00:00.000          PT60M  10YBA-JPCC-----D          CTA   \n",
       "3  2020-03-04 20:00:00.000          PT60M  10YBA-JPCC-----D          CTA   \n",
       "4  2020-03-04 21:00:00.000          PT60M  10YBA-JPCC-----D          CTA   \n",
       "\n",
       "  AreaName MapCode GenerationUnitEIC PowerSystemResourceName  \\\n",
       "0   BA CTA      BA  36W-TE-KAKANJ6-7            TE_KAKANJ_G6   \n",
       "1   BA CTA      BA  36W-TE-KAKANJ6-7            TE_KAKANJ_G6   \n",
       "2   BA CTA      BA  36W-TE-KAKANJ6-7            TE_KAKANJ_G6   \n",
       "3   BA CTA      BA  36W-TE-KAKANJ6-7            TE_KAKANJ_G6   \n",
       "4   BA CTA      BA  36W-TE-KAKANJ6-7            TE_KAKANJ_G6   \n",
       "\n",
       "     ProductionType  ActualGenerationOutput  ActualConsumption  \\\n",
       "0  Fossil Hard coal                     0.0                NaN   \n",
       "1  Fossil Hard coal                     0.0                NaN   \n",
       "2  Fossil Hard coal                     0.0                NaN   \n",
       "3  Fossil Hard coal                     0.0                NaN   \n",
       "4  Fossil Hard coal                     0.0                NaN   \n",
       "\n",
       "   InstalledGenCapacity           UpdateTime  \n",
       "0                 100.0  2020-03-04 19:46:09  \n",
       "1                 100.0  2020-03-04 20:46:24  \n",
       "2                 100.0  2020-03-04 21:46:07  \n",
       "3                 100.0  2020-03-04 22:46:06  \n",
       "4                 100.0  2020-03-04 23:47:00  "
      ]
     },
     "execution_count": 4,
     "metadata": {},
     "output_type": "execute_result"
    }
   ],
   "source": [
    "df.head(5)"
   ]
  },
  {
   "cell_type": "code",
   "execution_count": 5,
   "id": "ae85b920",
   "metadata": {},
   "outputs": [
    {
     "data": {
      "text/html": [
       "<div>\n",
       "<style scoped>\n",
       "    .dataframe tbody tr th:only-of-type {\n",
       "        vertical-align: middle;\n",
       "    }\n",
       "\n",
       "    .dataframe tbody tr th {\n",
       "        vertical-align: top;\n",
       "    }\n",
       "\n",
       "    .dataframe thead th {\n",
       "        text-align: right;\n",
       "    }\n",
       "</style>\n",
       "<table border=\"1\" class=\"dataframe\">\n",
       "  <thead>\n",
       "    <tr style=\"text-align: right;\">\n",
       "      <th></th>\n",
       "      <th>DateTime</th>\n",
       "      <th>ResolutionCode</th>\n",
       "      <th>AreaCode</th>\n",
       "      <th>AreaTypeCode</th>\n",
       "      <th>AreaName</th>\n",
       "      <th>MapCode</th>\n",
       "      <th>GenerationUnitEIC</th>\n",
       "      <th>PowerSystemResourceName</th>\n",
       "      <th>ProductionType</th>\n",
       "      <th>ActualGenerationOutput</th>\n",
       "      <th>ActualConsumption</th>\n",
       "      <th>InstalledGenCapacity</th>\n",
       "      <th>UpdateTime</th>\n",
       "    </tr>\n",
       "  </thead>\n",
       "  <tbody>\n",
       "    <tr>\n",
       "      <th>1479276</th>\n",
       "      <td>2020-03-14 04:00:00.000</td>\n",
       "      <td>PT60M</td>\n",
       "      <td>10YES-REE------0</td>\n",
       "      <td>CTA</td>\n",
       "      <td>ES CTA</td>\n",
       "      <td>ES</td>\n",
       "      <td>18WSLT3B--1234-V</td>\n",
       "      <td>SALLENT 3B</td>\n",
       "      <td>Hydro Pumped Storage</td>\n",
       "      <td>NaN</td>\n",
       "      <td>0.1</td>\n",
       "      <td>100.0</td>\n",
       "      <td>2020-03-15 13:35:43</td>\n",
       "    </tr>\n",
       "    <tr>\n",
       "      <th>1479277</th>\n",
       "      <td>2020-03-14 05:00:00.000</td>\n",
       "      <td>PT60M</td>\n",
       "      <td>10YES-REE------0</td>\n",
       "      <td>CTA</td>\n",
       "      <td>ES CTA</td>\n",
       "      <td>ES</td>\n",
       "      <td>18WSLT3B--1234-V</td>\n",
       "      <td>SALLENT 3B</td>\n",
       "      <td>Hydro Pumped Storage</td>\n",
       "      <td>NaN</td>\n",
       "      <td>0.1</td>\n",
       "      <td>100.0</td>\n",
       "      <td>2020-03-15 13:35:43</td>\n",
       "    </tr>\n",
       "    <tr>\n",
       "      <th>1479278</th>\n",
       "      <td>2020-03-14 06:00:00.000</td>\n",
       "      <td>PT60M</td>\n",
       "      <td>10YES-REE------0</td>\n",
       "      <td>CTA</td>\n",
       "      <td>ES CTA</td>\n",
       "      <td>ES</td>\n",
       "      <td>18WSLT3B--1234-V</td>\n",
       "      <td>SALLENT 3B</td>\n",
       "      <td>Hydro Pumped Storage</td>\n",
       "      <td>NaN</td>\n",
       "      <td>0.1</td>\n",
       "      <td>100.0</td>\n",
       "      <td>2020-03-15 13:35:43</td>\n",
       "    </tr>\n",
       "    <tr>\n",
       "      <th>1479279</th>\n",
       "      <td>2020-03-14 07:00:00.000</td>\n",
       "      <td>PT60M</td>\n",
       "      <td>10YES-REE------0</td>\n",
       "      <td>CTA</td>\n",
       "      <td>ES CTA</td>\n",
       "      <td>ES</td>\n",
       "      <td>18WSLT3B--1234-V</td>\n",
       "      <td>SALLENT 3B</td>\n",
       "      <td>Hydro Pumped Storage</td>\n",
       "      <td>NaN</td>\n",
       "      <td>0.1</td>\n",
       "      <td>100.0</td>\n",
       "      <td>2020-03-15 13:35:43</td>\n",
       "    </tr>\n",
       "    <tr>\n",
       "      <th>1479280</th>\n",
       "      <td>2020-03-14 08:00:00.000</td>\n",
       "      <td>PT60M</td>\n",
       "      <td>10YES-REE------0</td>\n",
       "      <td>CTA</td>\n",
       "      <td>ES CTA</td>\n",
       "      <td>ES</td>\n",
       "      <td>18WSLT3B--1234-V</td>\n",
       "      <td>SALLENT 3B</td>\n",
       "      <td>Hydro Pumped Storage</td>\n",
       "      <td>NaN</td>\n",
       "      <td>0.1</td>\n",
       "      <td>100.0</td>\n",
       "      <td>2020-03-15 13:35:43</td>\n",
       "    </tr>\n",
       "  </tbody>\n",
       "</table>\n",
       "</div>"
      ],
      "text/plain": [
       "                        DateTime ResolutionCode          AreaCode  \\\n",
       "1479276  2020-03-14 04:00:00.000          PT60M  10YES-REE------0   \n",
       "1479277  2020-03-14 05:00:00.000          PT60M  10YES-REE------0   \n",
       "1479278  2020-03-14 06:00:00.000          PT60M  10YES-REE------0   \n",
       "1479279  2020-03-14 07:00:00.000          PT60M  10YES-REE------0   \n",
       "1479280  2020-03-14 08:00:00.000          PT60M  10YES-REE------0   \n",
       "\n",
       "        AreaTypeCode AreaName MapCode GenerationUnitEIC  \\\n",
       "1479276          CTA   ES CTA      ES  18WSLT3B--1234-V   \n",
       "1479277          CTA   ES CTA      ES  18WSLT3B--1234-V   \n",
       "1479278          CTA   ES CTA      ES  18WSLT3B--1234-V   \n",
       "1479279          CTA   ES CTA      ES  18WSLT3B--1234-V   \n",
       "1479280          CTA   ES CTA      ES  18WSLT3B--1234-V   \n",
       "\n",
       "        PowerSystemResourceName        ProductionType  ActualGenerationOutput  \\\n",
       "1479276              SALLENT 3B  Hydro Pumped Storage                     NaN   \n",
       "1479277              SALLENT 3B  Hydro Pumped Storage                     NaN   \n",
       "1479278              SALLENT 3B  Hydro Pumped Storage                     NaN   \n",
       "1479279              SALLENT 3B  Hydro Pumped Storage                     NaN   \n",
       "1479280              SALLENT 3B  Hydro Pumped Storage                     NaN   \n",
       "\n",
       "         ActualConsumption  InstalledGenCapacity           UpdateTime  \n",
       "1479276                0.1                 100.0  2020-03-15 13:35:43  \n",
       "1479277                0.1                 100.0  2020-03-15 13:35:43  \n",
       "1479278                0.1                 100.0  2020-03-15 13:35:43  \n",
       "1479279                0.1                 100.0  2020-03-15 13:35:43  \n",
       "1479280                0.1                 100.0  2020-03-15 13:35:43  "
      ]
     },
     "execution_count": 5,
     "metadata": {},
     "output_type": "execute_result"
    }
   ],
   "source": [
    "df.tail(5)"
   ]
  },
  {
   "cell_type": "code",
   "execution_count": 7,
   "id": "f4f4cb6e",
   "metadata": {},
   "outputs": [
    {
     "name": "stdout",
     "output_type": "stream",
     "text": [
      "<class 'pandas.core.frame.DataFrame'>\n",
      "RangeIndex: 1479281 entries, 0 to 1479280\n",
      "Data columns (total 13 columns):\n",
      "DateTime                   1479281 non-null object\n",
      "ResolutionCode             1479281 non-null object\n",
      "AreaCode                   1479281 non-null object\n",
      "AreaTypeCode               1479281 non-null object\n",
      "AreaName                   1479281 non-null object\n",
      "MapCode                    1479281 non-null object\n",
      "GenerationUnitEIC          1479281 non-null object\n",
      "PowerSystemResourceName    1479281 non-null object\n",
      "ProductionType             1479281 non-null object\n",
      "ActualGenerationOutput     1438691 non-null float64\n",
      "ActualConsumption          197574 non-null float64\n",
      "InstalledGenCapacity       1479281 non-null float64\n",
      "UpdateTime                 1479281 non-null object\n",
      "dtypes: float64(3), object(10)\n",
      "memory usage: 146.7+ MB\n"
     ]
    }
   ],
   "source": [
    "df.info()\n",
    "\n",
    "# Around 1.5M entries\n",
    "# Key columns = Datetime, ActualGenerationOutput, ActualConsumption, and InstalledGenCapacity\n",
    "# 3 columns contain numerical data\n",
    "# Missing values present in ActualGenerationOutput and ActualConsumption"
   ]
  },
  {
   "cell_type": "code",
   "execution_count": 8,
   "id": "046c4940",
   "metadata": {},
   "outputs": [
    {
     "data": {
      "image/png": "[encoded data removed]",
      "text/plain": [
       "<Figure size 720x432 with 1 Axes>"
      ]
     },
     "metadata": {
      "needs_background": "light"
     },
     "output_type": "display_data"
    }
   ],
   "source": [
    "#Count of Missing values\n",
    "missing_values_count = df.isnull().sum()\n",
    "# Plotting the missing values count\n",
    "plt.figure(figsize=(10, 6))\n",
    "ax = sns.barplot(x=missing_values_count.index, y=missing_values_count.values, palette=\"viridis\")\n",
    "plt.xticks(rotation=45)\n",
    "plt.xlabel('Columns')\n",
    "plt.ylabel('Number of Missing Values')\n",
    "plt.title('Missing Values Count per Column')\n",
    "for bar in ax.patches:\n",
    "    ax.text(bar.get_x() + bar.get_width() / 2, bar.get_height(), bar.get_height(),\n",
    "            horizontalalignment='center', color='black', weight='bold')\n",
    "plt.show()"
   ]
  },
  {
   "cell_type": "markdown",
   "id": "08748030",
   "metadata": {},
   "source": [
    "## Summary statistics"
   ]
  },
  {
   "cell_type": "code",
   "execution_count": 9,
   "id": "8477a4fd",
   "metadata": {},
   "outputs": [
    {
     "data": {
      "text/html": [
       "<div>\n",
       "<style scoped>\n",
       "    .dataframe tbody tr th:only-of-type {\n",
       "        vertical-align: middle;\n",
       "    }\n",
       "\n",
       "    .dataframe tbody tr th {\n",
       "        vertical-align: top;\n",
       "    }\n",
       "\n",
       "    .dataframe thead th {\n",
       "        text-align: right;\n",
       "    }\n",
       "</style>\n",
       "<table border=\"1\" class=\"dataframe\">\n",
       "  <thead>\n",
       "    <tr style=\"text-align: right;\">\n",
       "      <th></th>\n",
       "      <th>ActualGenerationOutput</th>\n",
       "      <th>ActualConsumption</th>\n",
       "      <th>InstalledGenCapacity</th>\n",
       "    </tr>\n",
       "  </thead>\n",
       "  <tbody>\n",
       "    <tr>\n",
       "      <th>count</th>\n",
       "      <td>1438691.00</td>\n",
       "      <td>197574.00</td>\n",
       "      <td>1479281.00</td>\n",
       "    </tr>\n",
       "    <tr>\n",
       "      <th>mean</th>\n",
       "      <td>118.95</td>\n",
       "      <td>9.10</td>\n",
       "      <td>289.96</td>\n",
       "    </tr>\n",
       "    <tr>\n",
       "      <th>std</th>\n",
       "      <td>231.92</td>\n",
       "      <td>38.09</td>\n",
       "      <td>264.94</td>\n",
       "    </tr>\n",
       "    <tr>\n",
       "      <th>min</th>\n",
       "      <td>0.00</td>\n",
       "      <td>0.00</td>\n",
       "      <td>0.00</td>\n",
       "    </tr>\n",
       "    <tr>\n",
       "      <th>25%</th>\n",
       "      <td>0.00</td>\n",
       "      <td>0.00</td>\n",
       "      <td>118.50</td>\n",
       "    </tr>\n",
       "    <tr>\n",
       "      <th>50%</th>\n",
       "      <td>6.32</td>\n",
       "      <td>0.00</td>\n",
       "      <td>207.00</td>\n",
       "    </tr>\n",
       "    <tr>\n",
       "      <th>75%</th>\n",
       "      <td>138.73</td>\n",
       "      <td>0.00</td>\n",
       "      <td>385.00</td>\n",
       "    </tr>\n",
       "    <tr>\n",
       "      <th>max</th>\n",
       "      <td>1516.00</td>\n",
       "      <td>868.00</td>\n",
       "      <td>1500.00</td>\n",
       "    </tr>\n",
       "  </tbody>\n",
       "</table>\n",
       "</div>"
      ],
      "text/plain": [
       "       ActualGenerationOutput  ActualConsumption  InstalledGenCapacity\n",
       "count              1438691.00          197574.00            1479281.00\n",
       "mean                   118.95               9.10                289.96\n",
       "std                    231.92              38.09                264.94\n",
       "min                      0.00               0.00                  0.00\n",
       "25%                      0.00               0.00                118.50\n",
       "50%                      6.32               0.00                207.00\n",
       "75%                    138.73               0.00                385.00\n",
       "max                   1516.00             868.00               1500.00"
      ]
     },
     "execution_count": 9,
     "metadata": {},
     "output_type": "execute_result"
    }
   ],
   "source": [
    "pd.set_option('display.float_format', lambda x: '%.2f' % x) # Set display options to exclude scientific notation\n",
    "df.describe()\n",
    "\n",
    "\n",
    "# Min value 0  indicates instances where no generation output, consumption and Capacity was recorded.\n",
    "    #indicating potential issues with data recording or reporting (for eg: maintenance, downtime etc.)\n",
    "# High values of standard deviation suggests the fields varies widely across different observations.\n",
    "# Notable diff between third quartile (75th%) and max values, which suggest there can be outliers"
   ]
  },
  {
   "cell_type": "code",
   "execution_count": 10,
   "id": "6799487e",
   "metadata": {},
   "outputs": [
    {
     "name": "stdout",
     "output_type": "stream",
     "text": [
      "Column ActualGenerationOutput has IQR= 138.73\n",
      "Column ActualConsumption has IQR= 0.0\n",
      "Column InstalledGenCapacity has IQR= 266.5\n"
     ]
    }
   ],
   "source": [
    "for col in [\"ActualGenerationOutput\",\"ActualConsumption\",\"InstalledGenCapacity\"]:\n",
    "    Q1 = df[col].quantile(0.25)\n",
    "    Q3 = df[col].quantile(0.75)\n",
    "    print(f'Column {col} has IQR= {Q3 - Q1}')\n",
    "\n",
    "# ActualGenerationOutput  and InstalledGenCapacity shows greater variability in their central portion of the data"
   ]
  },
  {
   "cell_type": "code",
   "execution_count": 11,
   "id": "8e279753",
   "metadata": {},
   "outputs": [
    {
     "data": {
      "image/png": "[encoded data removed]",
      "text/plain": [
       "<Figure size 864x576 with 1 Axes>"
      ]
     },
     "metadata": {
      "needs_background": "light"
     },
     "output_type": "display_data"
    }
   ],
   "source": [
    "import pandas as pd\n",
    "import matplotlib.pyplot as plt\n",
    "\n",
    "plt.figure(figsize=(12, 8))\n",
    "df.boxplot(showfliers=False,whis=(0, 100))\n",
    "plt.title(\"Box Plots of Numerical Columns\")\n",
    "plt.ylabel(\"Value\")\n",
    "plt.xticks(rotation=45)\n",
    "plt.show()\n",
    "\n",
    "# high width of box for InstalledGenCapacity means more dispersion\n",
    "# The placement of boxes also indicates positive skewness. \n",
    "    #It means right tail (above 3rd quartile) of the distribution is stretched out"
   ]
  },
  {
   "cell_type": "markdown",
   "id": "6a512d46",
   "metadata": {},
   "source": [
    "# Data Visualisation "
   ]
  },
  {
   "cell_type": "markdown",
   "id": "4e78a471",
   "metadata": {},
   "source": [
    "## To check missing values"
   ]
  },
  {
   "cell_type": "code",
   "execution_count": 12,
   "id": "043e0c9b",
   "metadata": {},
   "outputs": [
    {
     "data": {
      "text/plain": [
       "<matplotlib.axes._subplots.AxesSubplot at 0x1dd02a4b4c8>"
      ]
     },
     "execution_count": 12,
     "metadata": {},
     "output_type": "execute_result"
    },
    {
     "data": {
      "image/png": "[encoded data removed]",
      "text/plain": [
       "<Figure size 432x288 with 1 Axes>"
      ]
     },
     "metadata": {
      "needs_background": "light"
     },
     "output_type": "display_data"
    }
   ],
   "source": [
    "sns.heatmap(df.isnull(),cbar=False,yticklabels=False,cmap = 'viridis')\n",
    "\n",
    "#The heatmap shows Null values in ActualGenerationOutput and ActualConsumption columns"
   ]
  },
  {
   "cell_type": "markdown",
   "id": "5946793b",
   "metadata": {},
   "source": [
    "## Correlation"
   ]
  },
  {
   "cell_type": "code",
   "execution_count": 13,
   "id": "3159ac62",
   "metadata": {},
   "outputs": [
    {
     "data": {
      "text/html": [
       "<style  type=\"text/css\" >\n",
       "    #T_83c123c2_e77d_11ee_96f9_804618dac6c4row0_col0 {\n",
       "            background-color:  #b40426;\n",
       "            color:  #f1f1f1;\n",
       "        }    #T_83c123c2_e77d_11ee_96f9_804618dac6c4row0_col1 {\n",
       "            background-color:  #3b4cc0;\n",
       "            color:  #f1f1f1;\n",
       "        }    #T_83c123c2_e77d_11ee_96f9_804618dac6c4row0_col2 {\n",
       "            background-color:  #f6bda2;\n",
       "            color:  #000000;\n",
       "        }    #T_83c123c2_e77d_11ee_96f9_804618dac6c4row1_col0 {\n",
       "            background-color:  #3b4cc0;\n",
       "            color:  #f1f1f1;\n",
       "        }    #T_83c123c2_e77d_11ee_96f9_804618dac6c4row1_col1 {\n",
       "            background-color:  #b40426;\n",
       "            color:  #f1f1f1;\n",
       "        }    #T_83c123c2_e77d_11ee_96f9_804618dac6c4row1_col2 {\n",
       "            background-color:  #3b4cc0;\n",
       "            color:  #f1f1f1;\n",
       "        }    #T_83c123c2_e77d_11ee_96f9_804618dac6c4row2_col0 {\n",
       "            background-color:  #f6a385;\n",
       "            color:  #000000;\n",
       "        }    #T_83c123c2_e77d_11ee_96f9_804618dac6c4row2_col1 {\n",
       "            background-color:  #80a3fa;\n",
       "            color:  #000000;\n",
       "        }    #T_83c123c2_e77d_11ee_96f9_804618dac6c4row2_col2 {\n",
       "            background-color:  #b40426;\n",
       "            color:  #f1f1f1;\n",
       "        }</style><table id=\"T_83c123c2_e77d_11ee_96f9_804618dac6c4\" ><thead>    <tr>        <th class=\"blank level0\" ></th>        <th class=\"col_heading level0 col0\" >ActualGenerationOutput</th>        <th class=\"col_heading level0 col1\" >ActualConsumption</th>        <th class=\"col_heading level0 col2\" >InstalledGenCapacity</th>    </tr></thead><tbody>\n",
       "                <tr>\n",
       "                        <th id=\"T_83c123c2_e77d_11ee_96f9_804618dac6c4level0_row0\" class=\"row_heading level0 row0\" >ActualGenerationOutput</th>\n",
       "                        <td id=\"T_83c123c2_e77d_11ee_96f9_804618dac6c4row0_col0\" class=\"data row0 col0\" >1</td>\n",
       "                        <td id=\"T_83c123c2_e77d_11ee_96f9_804618dac6c4row0_col1\" class=\"data row0 col1\" >-0.0560449</td>\n",
       "                        <td id=\"T_83c123c2_e77d_11ee_96f9_804618dac6c4row0_col2\" class=\"data row0 col2\" >0.710404</td>\n",
       "            </tr>\n",
       "            <tr>\n",
       "                        <th id=\"T_83c123c2_e77d_11ee_96f9_804618dac6c4level0_row1\" class=\"row_heading level0 row1\" >ActualConsumption</th>\n",
       "                        <td id=\"T_83c123c2_e77d_11ee_96f9_804618dac6c4row1_col0\" class=\"data row1 col0\" >-0.0560449</td>\n",
       "                        <td id=\"T_83c123c2_e77d_11ee_96f9_804618dac6c4row1_col1\" class=\"data row1 col1\" >1</td>\n",
       "                        <td id=\"T_83c123c2_e77d_11ee_96f9_804618dac6c4row1_col2\" class=\"data row1 col2\" >0.169362</td>\n",
       "            </tr>\n",
       "            <tr>\n",
       "                        <th id=\"T_83c123c2_e77d_11ee_96f9_804618dac6c4level0_row2\" class=\"row_heading level0 row2\" >InstalledGenCapacity</th>\n",
       "                        <td id=\"T_83c123c2_e77d_11ee_96f9_804618dac6c4row2_col0\" class=\"data row2 col0\" >0.710404</td>\n",
       "                        <td id=\"T_83c123c2_e77d_11ee_96f9_804618dac6c4row2_col1\" class=\"data row2 col1\" >0.169362</td>\n",
       "                        <td id=\"T_83c123c2_e77d_11ee_96f9_804618dac6c4row2_col2\" class=\"data row2 col2\" >1</td>\n",
       "            </tr>\n",
       "    </tbody></table>"
      ],
      "text/plain": [
       "<pandas.io.formats.style.Styler at 0x1dd029f81c8>"
      ]
     },
     "execution_count": 13,
     "metadata": {},
     "output_type": "execute_result"
    }
   ],
   "source": [
    "corr= df.corr()\n",
    "corr.style.background_gradient(cmap='coolwarm')\n",
    "# Shows moderate to strong postive correlation between  ActualGenerationOutput and InstalledGenCapacity"
   ]
  },
  {
   "cell_type": "markdown",
   "id": "e2724c9e",
   "metadata": {},
   "source": [
    "# Data Integrity"
   ]
  },
  {
   "cell_type": "markdown",
   "id": "7999fc99",
   "metadata": {},
   "source": [
    "## Check for duplicate records"
   ]
  },
  {
   "cell_type": "code",
   "execution_count": 14,
   "id": "73b2c8f8",
   "metadata": {},
   "outputs": [
    {
     "name": "stdout",
     "output_type": "stream",
     "text": [
      "0\n"
     ]
    }
   ],
   "source": [
    "print(df.duplicated().sum())\n",
    "#Shows the dataframe doesn't have duplicate records"
   ]
  },
  {
   "cell_type": "markdown",
   "id": "f33a73e6",
   "metadata": {},
   "source": [
    "## Poor data quality examples"
   ]
  },
  {
   "cell_type": "code",
   "execution_count": 15,
   "id": "cd52234e",
   "metadata": {},
   "outputs": [
    {
     "name": "stdout",
     "output_type": "stream",
     "text": [
      "Empty DataFrame\n",
      "Columns: [DateTime, ResolutionCode, AreaCode, AreaTypeCode, AreaName, MapCode, GenerationUnitEIC, PowerSystemResourceName, ProductionType, ActualGenerationOutput, ActualConsumption, InstalledGenCapacity, UpdateTime]\n",
      "Index: []\n"
     ]
    }
   ],
   "source": [
    "#Check for any entries where DateTime is outside the expected range. This report is for March 2020\n",
    "\n",
    "df['DateTime'] = pd.to_datetime(df['DateTime'])\n",
    "entries_outside_march_2020 = df[(df['DateTime'] < '2020-03-01') | (df['DateTime'] >= '2020-04-01')]\n",
    "print(entries_outside_march_2020)\n",
    "\n",
    "#Shows the datetime is within expected range"
   ]
  },
  {
   "cell_type": "code",
   "execution_count": 16,
   "id": "834188ba",
   "metadata": {},
   "outputs": [],
   "source": [
    "# Identify Poor Data Quality Examples\n",
    "Consumption_Null_Dates = df[df['ActualConsumption'].isnull()]['DateTime']"
   ]
  },
  {
   "cell_type": "code",
   "execution_count": 17,
   "id": "a78b0e9f",
   "metadata": {},
   "outputs": [
    {
     "data": {
      "text/plain": [
       "0    2020-03-04 17:00:00\n",
       "1    2020-03-04 18:00:00\n",
       "2    2020-03-04 19:00:00\n",
       "3    2020-03-04 20:00:00\n",
       "4    2020-03-04 21:00:00\n",
       "5    2020-03-06 12:00:00\n",
       "6    2020-03-06 13:00:00\n",
       "7    2020-03-15 11:00:00\n",
       "8    2020-03-15 12:00:00\n",
       "9    2020-03-15 13:00:00\n",
       "10   2020-03-15 14:00:00\n",
       "11   2020-03-15 15:00:00\n",
       "12   2020-03-15 16:00:00\n",
       "13   2020-03-15 17:00:00\n",
       "14   2020-03-24 12:00:00\n",
       "15   2020-03-23 22:00:00\n",
       "16   2020-03-23 23:00:00\n",
       "17   2020-03-24 00:00:00\n",
       "18   2020-03-24 01:00:00\n",
       "19   2020-03-24 02:00:00\n",
       "Name: DateTime, dtype: datetime64[ns]"
      ]
     },
     "execution_count": 17,
     "metadata": {},
     "output_type": "execute_result"
    }
   ],
   "source": [
    "Consumption_Null_Dates[:20]\n",
    "\n",
    "#This may suggest that on these dates the Generation Unit might be down or shut for maintenance"
   ]
  },
  {
   "cell_type": "code",
   "execution_count": 18,
   "id": "6bd5ebcc",
   "metadata": {},
   "outputs": [
    {
     "data": {
      "text/html": [
       "<div>\n",
       "<style scoped>\n",
       "    .dataframe tbody tr th:only-of-type {\n",
       "        vertical-align: middle;\n",
       "    }\n",
       "\n",
       "    .dataframe tbody tr th {\n",
       "        vertical-align: top;\n",
       "    }\n",
       "\n",
       "    .dataframe thead th {\n",
       "        text-align: right;\n",
       "    }\n",
       "</style>\n",
       "<table border=\"1\" class=\"dataframe\">\n",
       "  <thead>\n",
       "    <tr style=\"text-align: right;\">\n",
       "      <th></th>\n",
       "      <th>DateTime</th>\n",
       "      <th>ResolutionCode</th>\n",
       "      <th>AreaCode</th>\n",
       "      <th>AreaTypeCode</th>\n",
       "      <th>AreaName</th>\n",
       "      <th>MapCode</th>\n",
       "      <th>GenerationUnitEIC</th>\n",
       "      <th>PowerSystemResourceName</th>\n",
       "      <th>ProductionType</th>\n",
       "      <th>ActualGenerationOutput</th>\n",
       "      <th>ActualConsumption</th>\n",
       "      <th>InstalledGenCapacity</th>\n",
       "      <th>UpdateTime</th>\n",
       "    </tr>\n",
       "  </thead>\n",
       "  <tbody>\n",
       "    <tr>\n",
       "      <th>0</th>\n",
       "      <td>2020-03-04 17:00:00</td>\n",
       "      <td>PT60M</td>\n",
       "      <td>10YBA-JPCC-----D</td>\n",
       "      <td>CTA</td>\n",
       "      <td>BA CTA</td>\n",
       "      <td>BA</td>\n",
       "      <td>36W-TE-KAKANJ6-7</td>\n",
       "      <td>TE_KAKANJ_G6</td>\n",
       "      <td>Fossil Hard coal</td>\n",
       "      <td>0.00</td>\n",
       "      <td>nan</td>\n",
       "      <td>100.00</td>\n",
       "      <td>2020-03-04 19:46:09</td>\n",
       "    </tr>\n",
       "    <tr>\n",
       "      <th>1</th>\n",
       "      <td>2020-03-04 18:00:00</td>\n",
       "      <td>PT60M</td>\n",
       "      <td>10YBA-JPCC-----D</td>\n",
       "      <td>CTA</td>\n",
       "      <td>BA CTA</td>\n",
       "      <td>BA</td>\n",
       "      <td>36W-TE-KAKANJ6-7</td>\n",
       "      <td>TE_KAKANJ_G6</td>\n",
       "      <td>Fossil Hard coal</td>\n",
       "      <td>0.00</td>\n",
       "      <td>nan</td>\n",
       "      <td>100.00</td>\n",
       "      <td>2020-03-04 20:46:24</td>\n",
       "    </tr>\n",
       "    <tr>\n",
       "      <th>2</th>\n",
       "      <td>2020-03-04 19:00:00</td>\n",
       "      <td>PT60M</td>\n",
       "      <td>10YBA-JPCC-----D</td>\n",
       "      <td>CTA</td>\n",
       "      <td>BA CTA</td>\n",
       "      <td>BA</td>\n",
       "      <td>36W-TE-KAKANJ6-7</td>\n",
       "      <td>TE_KAKANJ_G6</td>\n",
       "      <td>Fossil Hard coal</td>\n",
       "      <td>0.00</td>\n",
       "      <td>nan</td>\n",
       "      <td>100.00</td>\n",
       "      <td>2020-03-04 21:46:07</td>\n",
       "    </tr>\n",
       "    <tr>\n",
       "      <th>3</th>\n",
       "      <td>2020-03-04 20:00:00</td>\n",
       "      <td>PT60M</td>\n",
       "      <td>10YBA-JPCC-----D</td>\n",
       "      <td>CTA</td>\n",
       "      <td>BA CTA</td>\n",
       "      <td>BA</td>\n",
       "      <td>36W-TE-KAKANJ6-7</td>\n",
       "      <td>TE_KAKANJ_G6</td>\n",
       "      <td>Fossil Hard coal</td>\n",
       "      <td>0.00</td>\n",
       "      <td>nan</td>\n",
       "      <td>100.00</td>\n",
       "      <td>2020-03-04 22:46:06</td>\n",
       "    </tr>\n",
       "    <tr>\n",
       "      <th>4</th>\n",
       "      <td>2020-03-04 21:00:00</td>\n",
       "      <td>PT60M</td>\n",
       "      <td>10YBA-JPCC-----D</td>\n",
       "      <td>CTA</td>\n",
       "      <td>BA CTA</td>\n",
       "      <td>BA</td>\n",
       "      <td>36W-TE-KAKANJ6-7</td>\n",
       "      <td>TE_KAKANJ_G6</td>\n",
       "      <td>Fossil Hard coal</td>\n",
       "      <td>0.00</td>\n",
       "      <td>nan</td>\n",
       "      <td>100.00</td>\n",
       "      <td>2020-03-04 23:47:00</td>\n",
       "    </tr>\n",
       "    <tr>\n",
       "      <th>...</th>\n",
       "      <td>...</td>\n",
       "      <td>...</td>\n",
       "      <td>...</td>\n",
       "      <td>...</td>\n",
       "      <td>...</td>\n",
       "      <td>...</td>\n",
       "      <td>...</td>\n",
       "      <td>...</td>\n",
       "      <td>...</td>\n",
       "      <td>...</td>\n",
       "      <td>...</td>\n",
       "      <td>...</td>\n",
       "      <td>...</td>\n",
       "    </tr>\n",
       "    <tr>\n",
       "      <th>8101</th>\n",
       "      <td>2020-03-04 12:00:00</td>\n",
       "      <td>PT60M</td>\n",
       "      <td>10YBA-JPCC-----D</td>\n",
       "      <td>CTA</td>\n",
       "      <td>BA CTA</td>\n",
       "      <td>BA</td>\n",
       "      <td>36W-TE-KAKANJ6-7</td>\n",
       "      <td>TE_KAKANJ_G6</td>\n",
       "      <td>Fossil Hard coal</td>\n",
       "      <td>0.00</td>\n",
       "      <td>nan</td>\n",
       "      <td>100.00</td>\n",
       "      <td>2020-03-04 14:47:31</td>\n",
       "    </tr>\n",
       "    <tr>\n",
       "      <th>8102</th>\n",
       "      <td>2020-03-04 13:00:00</td>\n",
       "      <td>PT60M</td>\n",
       "      <td>10YBA-JPCC-----D</td>\n",
       "      <td>CTA</td>\n",
       "      <td>BA CTA</td>\n",
       "      <td>BA</td>\n",
       "      <td>36W-TE-KAKANJ6-7</td>\n",
       "      <td>TE_KAKANJ_G6</td>\n",
       "      <td>Fossil Hard coal</td>\n",
       "      <td>0.00</td>\n",
       "      <td>nan</td>\n",
       "      <td>100.00</td>\n",
       "      <td>2020-03-04 15:46:08</td>\n",
       "    </tr>\n",
       "    <tr>\n",
       "      <th>8103</th>\n",
       "      <td>2020-03-04 14:00:00</td>\n",
       "      <td>PT60M</td>\n",
       "      <td>10YBA-JPCC-----D</td>\n",
       "      <td>CTA</td>\n",
       "      <td>BA CTA</td>\n",
       "      <td>BA</td>\n",
       "      <td>36W-TE-KAKANJ6-7</td>\n",
       "      <td>TE_KAKANJ_G6</td>\n",
       "      <td>Fossil Hard coal</td>\n",
       "      <td>0.00</td>\n",
       "      <td>nan</td>\n",
       "      <td>100.00</td>\n",
       "      <td>2020-03-04 16:34:47</td>\n",
       "    </tr>\n",
       "    <tr>\n",
       "      <th>8104</th>\n",
       "      <td>2020-03-04 15:00:00</td>\n",
       "      <td>PT60M</td>\n",
       "      <td>10YBA-JPCC-----D</td>\n",
       "      <td>CTA</td>\n",
       "      <td>BA CTA</td>\n",
       "      <td>BA</td>\n",
       "      <td>36W-TE-KAKANJ6-7</td>\n",
       "      <td>TE_KAKANJ_G6</td>\n",
       "      <td>Fossil Hard coal</td>\n",
       "      <td>0.00</td>\n",
       "      <td>nan</td>\n",
       "      <td>100.00</td>\n",
       "      <td>2020-03-04 17:46:19</td>\n",
       "    </tr>\n",
       "    <tr>\n",
       "      <th>8105</th>\n",
       "      <td>2020-03-04 16:00:00</td>\n",
       "      <td>PT60M</td>\n",
       "      <td>10YBA-JPCC-----D</td>\n",
       "      <td>CTA</td>\n",
       "      <td>BA CTA</td>\n",
       "      <td>BA</td>\n",
       "      <td>36W-TE-KAKANJ6-7</td>\n",
       "      <td>TE_KAKANJ_G6</td>\n",
       "      <td>Fossil Hard coal</td>\n",
       "      <td>0.00</td>\n",
       "      <td>nan</td>\n",
       "      <td>100.00</td>\n",
       "      <td>2020-03-04 18:46:11</td>\n",
       "    </tr>\n",
       "  </tbody>\n",
       "</table>\n",
       "<p>744 rows × 13 columns</p>\n",
       "</div>"
      ],
      "text/plain": [
       "                DateTime ResolutionCode          AreaCode AreaTypeCode  \\\n",
       "0    2020-03-04 17:00:00          PT60M  10YBA-JPCC-----D          CTA   \n",
       "1    2020-03-04 18:00:00          PT60M  10YBA-JPCC-----D          CTA   \n",
       "2    2020-03-04 19:00:00          PT60M  10YBA-JPCC-----D          CTA   \n",
       "3    2020-03-04 20:00:00          PT60M  10YBA-JPCC-----D          CTA   \n",
       "4    2020-03-04 21:00:00          PT60M  10YBA-JPCC-----D          CTA   \n",
       "...                  ...            ...               ...          ...   \n",
       "8101 2020-03-04 12:00:00          PT60M  10YBA-JPCC-----D          CTA   \n",
       "8102 2020-03-04 13:00:00          PT60M  10YBA-JPCC-----D          CTA   \n",
       "8103 2020-03-04 14:00:00          PT60M  10YBA-JPCC-----D          CTA   \n",
       "8104 2020-03-04 15:00:00          PT60M  10YBA-JPCC-----D          CTA   \n",
       "8105 2020-03-04 16:00:00          PT60M  10YBA-JPCC-----D          CTA   \n",
       "\n",
       "     AreaName MapCode GenerationUnitEIC PowerSystemResourceName  \\\n",
       "0      BA CTA      BA  36W-TE-KAKANJ6-7            TE_KAKANJ_G6   \n",
       "1      BA CTA      BA  36W-TE-KAKANJ6-7            TE_KAKANJ_G6   \n",
       "2      BA CTA      BA  36W-TE-KAKANJ6-7            TE_KAKANJ_G6   \n",
       "3      BA CTA      BA  36W-TE-KAKANJ6-7            TE_KAKANJ_G6   \n",
       "4      BA CTA      BA  36W-TE-KAKANJ6-7            TE_KAKANJ_G6   \n",
       "...       ...     ...               ...                     ...   \n",
       "8101   BA CTA      BA  36W-TE-KAKANJ6-7            TE_KAKANJ_G6   \n",
       "8102   BA CTA      BA  36W-TE-KAKANJ6-7            TE_KAKANJ_G6   \n",
       "8103   BA CTA      BA  36W-TE-KAKANJ6-7            TE_KAKANJ_G6   \n",
       "8104   BA CTA      BA  36W-TE-KAKANJ6-7            TE_KAKANJ_G6   \n",
       "8105   BA CTA      BA  36W-TE-KAKANJ6-7            TE_KAKANJ_G6   \n",
       "\n",
       "        ProductionType  ActualGenerationOutput  ActualConsumption  \\\n",
       "0     Fossil Hard coal                    0.00                nan   \n",
       "1     Fossil Hard coal                    0.00                nan   \n",
       "2     Fossil Hard coal                    0.00                nan   \n",
       "3     Fossil Hard coal                    0.00                nan   \n",
       "4     Fossil Hard coal                    0.00                nan   \n",
       "...                ...                     ...                ...   \n",
       "8101  Fossil Hard coal                    0.00                nan   \n",
       "8102  Fossil Hard coal                    0.00                nan   \n",
       "8103  Fossil Hard coal                    0.00                nan   \n",
       "8104  Fossil Hard coal                    0.00                nan   \n",
       "8105  Fossil Hard coal                    0.00                nan   \n",
       "\n",
       "      InstalledGenCapacity           UpdateTime  \n",
       "0                   100.00  2020-03-04 19:46:09  \n",
       "1                   100.00  2020-03-04 20:46:24  \n",
       "2                   100.00  2020-03-04 21:46:07  \n",
       "3                   100.00  2020-03-04 22:46:06  \n",
       "4                   100.00  2020-03-04 23:47:00  \n",
       "...                    ...                  ...  \n",
       "8101                100.00  2020-03-04 14:47:31  \n",
       "8102                100.00  2020-03-04 15:46:08  \n",
       "8103                100.00  2020-03-04 16:34:47  \n",
       "8104                100.00  2020-03-04 17:46:19  \n",
       "8105                100.00  2020-03-04 18:46:11  \n",
       "\n",
       "[744 rows x 13 columns]"
      ]
     },
     "execution_count": 18,
     "metadata": {},
     "output_type": "execute_result"
    }
   ],
   "source": [
    "df[(df['ActualConsumption'].isnull()) & (df['GenerationUnitEIC']== '36W-TE-KAKANJ6-7')]#['DateTime'][:20]"
   ]
  },
  {
   "cell_type": "code",
   "execution_count": 19,
   "id": "6990084c",
   "metadata": {},
   "outputs": [
    {
     "data": {
      "text/html": [
       "<div>\n",
       "<style scoped>\n",
       "    .dataframe tbody tr th:only-of-type {\n",
       "        vertical-align: middle;\n",
       "    }\n",
       "\n",
       "    .dataframe tbody tr th {\n",
       "        vertical-align: top;\n",
       "    }\n",
       "\n",
       "    .dataframe thead th {\n",
       "        text-align: right;\n",
       "    }\n",
       "</style>\n",
       "<table border=\"1\" class=\"dataframe\">\n",
       "  <thead>\n",
       "    <tr style=\"text-align: right;\">\n",
       "      <th></th>\n",
       "      <th>DateTime</th>\n",
       "      <th>ResolutionCode</th>\n",
       "      <th>AreaCode</th>\n",
       "      <th>AreaTypeCode</th>\n",
       "      <th>AreaName</th>\n",
       "      <th>MapCode</th>\n",
       "      <th>GenerationUnitEIC</th>\n",
       "      <th>PowerSystemResourceName</th>\n",
       "      <th>ProductionType</th>\n",
       "      <th>ActualGenerationOutput</th>\n",
       "      <th>ActualConsumption</th>\n",
       "      <th>InstalledGenCapacity</th>\n",
       "      <th>UpdateTime</th>\n",
       "    </tr>\n",
       "  </thead>\n",
       "  <tbody>\n",
       "  </tbody>\n",
       "</table>\n",
       "</div>"
      ],
      "text/plain": [
       "Empty DataFrame\n",
       "Columns: [DateTime, ResolutionCode, AreaCode, AreaTypeCode, AreaName, MapCode, GenerationUnitEIC, PowerSystemResourceName, ProductionType, ActualGenerationOutput, ActualConsumption, InstalledGenCapacity, UpdateTime]\n",
       "Index: []"
      ]
     },
     "execution_count": 19,
     "metadata": {},
     "output_type": "execute_result"
    }
   ],
   "source": [
    "df[(df['ActualConsumption'].notnull()) & (df['GenerationUnitEIC']== '36W-TE-KAKANJ6-7')]\n",
    "\n",
    "#Rows where Consumption is not null and Generation Unit = 36W-TE-KAKANJ6-7\n",
    "#This means there are no dates for which there is consumption recorded for this particular unit\n",
    "\n",
    "#There might be other such units"
   ]
  },
  {
   "cell_type": "code",
   "execution_count": 21,
   "id": "444be278",
   "metadata": {},
   "outputs": [
    {
     "name": "stdout",
     "output_type": "stream",
     "text": [
      "1444\n",
      "['36W-TE-KAKANJ6-7' '36W-H-CAPLJ-G2-H' '36W-TE-UGLJEV1-5' ...\n",
      " '18WCOM4-12345-D2' '18WMUE1-12345-FP' '18WPALOS1-123-CB']\n"
     ]
    }
   ],
   "source": [
    "grouped = df.groupby('GenerationUnitEIC')\n",
    "\n",
    "# Filter the groups to find those where all values in ActualConsumption are null\n",
    "groups_with_all_null = grouped.filter(lambda x: x['ActualConsumption'].isnull().all())\n",
    "\n",
    "# Display the groups with all null ActualConsumption\n",
    "print(len(groups_with_all_null['GenerationUnitEIC'].unique()))\n",
    "print(groups_with_all_null['GenerationUnitEIC'].unique())\n",
    "\n",
    "#There are 1444 such Units whose consumption is null for all dates.\n",
    "#These are redundant data and could be avoided\n",
    "#potential issues with data recording or reporting"
   ]
  },
  {
   "cell_type": "markdown",
   "id": "e7379517",
   "metadata": {},
   "source": [
    "## A similar Analysis could be done for ActualGenerationOutput"
   ]
  },
  {
   "cell_type": "code",
   "execution_count": 22,
   "id": "b4248afc",
   "metadata": {},
   "outputs": [
    {
     "name": "stdout",
     "output_type": "stream",
     "text": [
      "233416    2020-03-30 22:00:00\n",
      "233417    2020-03-30 23:00:00\n",
      "233418    2020-03-31 00:00:00\n",
      "233419    2020-03-31 01:00:00\n",
      "233420    2020-03-31 02:00:00\n",
      "                  ...        \n",
      "1479276   2020-03-14 04:00:00\n",
      "1479277   2020-03-14 05:00:00\n",
      "1479278   2020-03-14 06:00:00\n",
      "1479279   2020-03-14 07:00:00\n",
      "1479280   2020-03-14 08:00:00\n",
      "Name: DateTime, Length: 40590, dtype: datetime64[ns]\n"
     ]
    }
   ],
   "source": [
    "Generation_Null_Dates = df[df['ActualGenerationOutput'].isnull()]['DateTime']\n",
    "print(Generation_Null_Dates)"
   ]
  },
  {
   "cell_type": "code",
   "execution_count": 23,
   "id": "e71f6634",
   "metadata": {},
   "outputs": [
    {
     "name": "stdout",
     "output_type": "stream",
     "text": [
      "28\n",
      "['17W100P100P0108P' '17W100P100P0126N' '17W100P100P0127L'\n",
      " '17W100P100P0140T' '17W100P100P0023X' '18WMUE6B-12345-U'\n",
      " '18WTJE2B-12345-0' '18WSLT3B--1234-V' '18WVRN6B-12345-Z'\n",
      " '18WVRN1B-12345-B' '18WSLT1B-12345-J' '18WMUE5B-12345-3'\n",
      " '18WSLT2B-12345-9' '18WMUE4B-12345-D' '18WTJE1B-12345-A'\n",
      " '18WMUE7B-12345-K' '18WTJE3B-12345-R' '18WMUE1B-12345-6'\n",
      " '18WVRN5B-12345-8' '18WAL22B-12345-M' '18WMUE2B-12345-X'\n",
      " '18WVRN2B-12345-1' '18WVRN3B-12345-S' '18WVRN4B-12345-I'\n",
      " '18WTJE4B-12345-H' '18WSLT4B-12345-Q' '18WMUE3B-12345-N'\n",
      " '18WAL21B-12345-W']\n"
     ]
    }
   ],
   "source": [
    "grouped = df.groupby('GenerationUnitEIC')\n",
    "\n",
    "# Filter the groups to find those where all values in ActualConsumption are null\n",
    "groups_with_all_null = grouped.filter(lambda x: x['ActualGenerationOutput'].isnull().all())\n",
    "\n",
    "# Display the groups with all null ActualConsumption\n",
    "print(len(groups_with_all_null['GenerationUnitEIC'].unique()))\n",
    "print(groups_with_all_null['GenerationUnitEIC'].unique())\n",
    "\n",
    "# 28 Units for which no Generation Output value found for any of the dates"
   ]
  },
  {
   "cell_type": "markdown",
   "id": "0cf529f1",
   "metadata": {},
   "source": [
    "# Data Quality Metrics"
   ]
  },
  {
   "cell_type": "markdown",
   "id": "7545c9aa",
   "metadata": {},
   "source": [
    "## 1. Completeness\n",
    "     \n",
    "     measures the number of records with incomplete data. It is tracked by identifying records with empty fields and calculated as a percentage of the total number of records.\n",
    "     \n",
    "     completeness = 1 - (df.isnull().sum() / len(df))\n",
    "     \n",
    "     This metric is very important to ensure that we have sufficient data for further analysis and ML."
   ]
  },
  {
   "cell_type": "markdown",
   "id": "1819b575",
   "metadata": {},
   "source": [
    "## 2. Accuracy\n",
    "\n",
    "    Accuracy measures number and types of errors in a data set. To measure accuracy data has to be compared to a reference data set. The check could validate all the categorical fields in our dataset. It can also be used to find presence of outliers in numerical columns (using IQR values or clustering techniques) .\n",
    "    \n",
    "    Accuracy is measured as percentage of errors to the total number of records.\n",
    "    \n",
    "    This metric ensures that data is close to true values."
   ]
  },
  {
   "cell_type": "markdown",
   "id": "4ed6e5c7",
   "metadata": {},
   "source": [
    "## 3. Uniqueness\n",
    "\n",
    "    This tracks duplicate data. Redundant data is always a headache for analysis and ML. It’s important to identify duplicates and either merge them or delete the duplicates. "
   ]
  },
  {
   "cell_type": "markdown",
   "id": "1ecfaaf2",
   "metadata": {},
   "source": [
    "## 4. Consistency\n",
    "\n",
    "    Ensures that data is consistent across different sources or time periods. Can check for consistency in categorical variables like ResolutionCode and AreaTypeCode over time.\n",
    "    \n",
    "    Inconsistent values may indicate errors in data entry or changes in data collection methods."
   ]
  },
  {
   "cell_type": "markdown",
   "id": "acb148cc",
   "metadata": {},
   "source": [
    "## 5. Timeliness\n",
    "\n",
    "    a metric that measures the age of data in a database. More current data are likely to be more accurate and relevant.\n",
    "    Old data could mutliply errors while moving through pipeline.\n",
    "    \n",
    "    Evaluate the timeliness of our data updates by analyzing the frequency of updates in the UpdateTime column.\n",
    "    \n",
    "    Timely data is essential for real-time decision-making and feeds as a proper relevant data for Models."
   ]
  },
  {
   "cell_type": "code",
   "execution_count": null,
   "id": "e0631092",
   "metadata": {},
   "outputs": [],
   "source": []
  }
 ],
 "metadata": {
  "kernelspec": {
   "display_name": "Python 3",
   "language": "python",
   "name": "python3"
  },
  "language_info": {
   "codemirror_mode": {
    "name": "ipython",
    "version": 3
   },
   "file_extension": ".py",
   "mimetype": "text/x-python",
   "name": "python",
   "nbconvert_exporter": "python",
   "pygments_lexer": "ipython3",
   "version": "3.7.6"
  }
 },
 "nbformat": 4,
 "nbformat_minor": 5
}
